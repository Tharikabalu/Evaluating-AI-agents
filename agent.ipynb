{
 "cells": [
  {
   "cell_type": "code",
   "execution_count": 4,
   "metadata": {},
   "outputs": [
    {
     "name": "stdout",
     "output_type": "stream",
     "text": [
      "gpt-4-turbo-2024-04-09\n",
      "gpt-4o-2024-08-06\n",
      "gpt-4o-mini-2024-07-18\n",
      "o1-preview-2024-09-12\n",
      "o1-mini-2024-09-12\n",
      "o3-mini-2025-01-31\n",
      "meta-llama-3.1-405b\n",
      "meta-llama-3.2-11b\n",
      "meta-llama-3.3-70b\n",
      "gemini-1.5-pro\n",
      "gemini-1.5-flash\n",
      "gemini-2.0-flash-001\n",
      "claude-3.5-sonnet\n",
      "qwen-2.5-coder-32b\n",
      "deepseek-r1-distill-llama-70b\n",
      "text-embedding-ada-002\n",
      "text-embedding-3-small\n",
      "text-embedding-3-large\n",
      "bge_small\n",
      "bge_large\n",
      "whisper-tiny\n",
      "whisper-small\n",
      "whisper-medium\n",
      "whisper-large\n"
     ]
    }
   ],
   "source": [
    "model_list = client.models.list()\n",
    "for model in model_list.data:\n",
    "    print(model.id)"
   ]
  },
  {
   "cell_type": "code",
   "execution_count": 5,
   "metadata": {},
   "outputs": [],
   "source": [
    "model=\"gpt-4o-2024-08-06\""
   ]
  },
  {
   "cell_type": "code",
   "execution_count": 6,
   "metadata": {},
   "outputs": [],
   "source": [
    "import pandas as pd"
   ]
  },
  {
   "cell_type": "code",
   "execution_count": 7,
   "metadata": {},
   "outputs": [
    {
     "data": {
      "text/html": [
       "<div>\n",
       "<style scoped>\n",
       "    .dataframe tbody tr th:only-of-type {\n",
       "        vertical-align: middle;\n",
       "    }\n",
       "\n",
       "    .dataframe tbody tr th {\n",
       "        vertical-align: top;\n",
       "    }\n",
       "\n",
       "    .dataframe thead th {\n",
       "        text-align: right;\n",
       "    }\n",
       "</style>\n",
       "<table border=\"1\" class=\"dataframe\">\n",
       "  <thead>\n",
       "    <tr style=\"text-align: right;\">\n",
       "      <th></th>\n",
       "      <th>Store_Number</th>\n",
       "      <th>SKU_Coded</th>\n",
       "      <th>Product_Class_Code</th>\n",
       "      <th>Sold_Date</th>\n",
       "      <th>Qty_Sold</th>\n",
       "      <th>Total_Sale_Value</th>\n",
       "      <th>On_Promo</th>\n",
       "    </tr>\n",
       "  </thead>\n",
       "  <tbody>\n",
       "    <tr>\n",
       "      <th>0</th>\n",
       "      <td>1320</td>\n",
       "      <td>6172800</td>\n",
       "      <td>22875</td>\n",
       "      <td>2021-11-02</td>\n",
       "      <td>3</td>\n",
       "      <td>56.849998</td>\n",
       "      <td>0</td>\n",
       "    </tr>\n",
       "    <tr>\n",
       "      <th>1</th>\n",
       "      <td>2310</td>\n",
       "      <td>6172800</td>\n",
       "      <td>22875</td>\n",
       "      <td>2021-11-03</td>\n",
       "      <td>1</td>\n",
       "      <td>18.950001</td>\n",
       "      <td>0</td>\n",
       "    </tr>\n",
       "    <tr>\n",
       "      <th>2</th>\n",
       "      <td>3080</td>\n",
       "      <td>6172800</td>\n",
       "      <td>22875</td>\n",
       "      <td>2021-11-03</td>\n",
       "      <td>1</td>\n",
       "      <td>18.950001</td>\n",
       "      <td>0</td>\n",
       "    </tr>\n",
       "    <tr>\n",
       "      <th>3</th>\n",
       "      <td>2310</td>\n",
       "      <td>6172800</td>\n",
       "      <td>22875</td>\n",
       "      <td>2021-11-06</td>\n",
       "      <td>1</td>\n",
       "      <td>18.950001</td>\n",
       "      <td>0</td>\n",
       "    </tr>\n",
       "    <tr>\n",
       "      <th>4</th>\n",
       "      <td>4840</td>\n",
       "      <td>6172800</td>\n",
       "      <td>22875</td>\n",
       "      <td>2021-11-07</td>\n",
       "      <td>1</td>\n",
       "      <td>18.950001</td>\n",
       "      <td>0</td>\n",
       "    </tr>\n",
       "    <tr>\n",
       "      <th>...</th>\n",
       "      <td>...</td>\n",
       "      <td>...</td>\n",
       "      <td>...</td>\n",
       "      <td>...</td>\n",
       "      <td>...</td>\n",
       "      <td>...</td>\n",
       "      <td>...</td>\n",
       "    </tr>\n",
       "    <tr>\n",
       "      <th>697889</th>\n",
       "      <td>880</td>\n",
       "      <td>6205800</td>\n",
       "      <td>22875</td>\n",
       "      <td>2024-03-30</td>\n",
       "      <td>1</td>\n",
       "      <td>6.990000</td>\n",
       "      <td>0</td>\n",
       "    </tr>\n",
       "    <tr>\n",
       "      <th>697890</th>\n",
       "      <td>2970</td>\n",
       "      <td>6205850</td>\n",
       "      <td>24375</td>\n",
       "      <td>2024-03-29</td>\n",
       "      <td>1</td>\n",
       "      <td>69.989998</td>\n",
       "      <td>0</td>\n",
       "    </tr>\n",
       "    <tr>\n",
       "      <th>697891</th>\n",
       "      <td>3630</td>\n",
       "      <td>6205900</td>\n",
       "      <td>22850</td>\n",
       "      <td>2024-03-24</td>\n",
       "      <td>3</td>\n",
       "      <td>59.970001</td>\n",
       "      <td>0</td>\n",
       "    </tr>\n",
       "    <tr>\n",
       "      <th>697892</th>\n",
       "      <td>2970</td>\n",
       "      <td>6205900</td>\n",
       "      <td>22850</td>\n",
       "      <td>2024-03-27</td>\n",
       "      <td>1</td>\n",
       "      <td>19.990000</td>\n",
       "      <td>0</td>\n",
       "    </tr>\n",
       "    <tr>\n",
       "      <th>697893</th>\n",
       "      <td>4840</td>\n",
       "      <td>6205900</td>\n",
       "      <td>22850</td>\n",
       "      <td>2024-03-31</td>\n",
       "      <td>1</td>\n",
       "      <td>19.990000</td>\n",
       "      <td>0</td>\n",
       "    </tr>\n",
       "  </tbody>\n",
       "</table>\n",
       "<p>697894 rows × 7 columns</p>\n",
       "</div>"
      ],
      "text/plain": [
       "        Store_Number  SKU_Coded  Product_Class_Code   Sold_Date  Qty_Sold  \\\n",
       "0               1320    6172800               22875  2021-11-02         3   \n",
       "1               2310    6172800               22875  2021-11-03         1   \n",
       "2               3080    6172800               22875  2021-11-03         1   \n",
       "3               2310    6172800               22875  2021-11-06         1   \n",
       "4               4840    6172800               22875  2021-11-07         1   \n",
       "...              ...        ...                 ...         ...       ...   \n",
       "697889           880    6205800               22875  2024-03-30         1   \n",
       "697890          2970    6205850               24375  2024-03-29         1   \n",
       "697891          3630    6205900               22850  2024-03-24         3   \n",
       "697892          2970    6205900               22850  2024-03-27         1   \n",
       "697893          4840    6205900               22850  2024-03-31         1   \n",
       "\n",
       "        Total_Sale_Value  On_Promo  \n",
       "0              56.849998         0  \n",
       "1              18.950001         0  \n",
       "2              18.950001         0  \n",
       "3              18.950001         0  \n",
       "4              18.950001         0  \n",
       "...                  ...       ...  \n",
       "697889          6.990000         0  \n",
       "697890         69.989998         0  \n",
       "697891         59.970001         0  \n",
       "697892         19.990000         0  \n",
       "697893         19.990000         0  \n",
       "\n",
       "[697894 rows x 7 columns]"
      ]
     },
     "execution_count": 7,
     "metadata": {},
     "output_type": "execute_result"
    }
   ],
   "source": [
    "TRANSACTION_DATA_FILE_PATH = 'Store_Sales_Price_Elasticity_Promotions_Data.parquet'\n",
    "df=pd.read_parquet(TRANSACTION_DATA_FILE_PATH)\n",
    "df"
   ]
  },
  {
   "cell_type": "code",
   "execution_count": 8,
   "metadata": {},
   "outputs": [
    {
     "data": {
      "text/html": [
       "<div>\n",
       "<style scoped>\n",
       "    .dataframe tbody tr th:only-of-type {\n",
       "        vertical-align: middle;\n",
       "    }\n",
       "\n",
       "    .dataframe tbody tr th {\n",
       "        vertical-align: top;\n",
       "    }\n",
       "\n",
       "    .dataframe thead th {\n",
       "        text-align: right;\n",
       "    }\n",
       "</style>\n",
       "<table border=\"1\" class=\"dataframe\">\n",
       "  <thead>\n",
       "    <tr style=\"text-align: right;\">\n",
       "      <th></th>\n",
       "      <th>Store_Number</th>\n",
       "      <th>SKU_Coded</th>\n",
       "      <th>Product_Class_Code</th>\n",
       "      <th>Qty_Sold</th>\n",
       "      <th>Total_Sale_Value</th>\n",
       "      <th>On_Promo</th>\n",
       "    </tr>\n",
       "  </thead>\n",
       "  <tbody>\n",
       "    <tr>\n",
       "      <th>count</th>\n",
       "      <td>697894.000000</td>\n",
       "      <td>6.978940e+05</td>\n",
       "      <td>697894.000000</td>\n",
       "      <td>697894.000000</td>\n",
       "      <td>697894.000000</td>\n",
       "      <td>697894.000000</td>\n",
       "    </tr>\n",
       "    <tr>\n",
       "      <th>mean</th>\n",
       "      <td>2322.063537</td>\n",
       "      <td>6.188240e+06</td>\n",
       "      <td>23284.495747</td>\n",
       "      <td>1.484536</td>\n",
       "      <td>19.018131</td>\n",
       "      <td>0.006256</td>\n",
       "    </tr>\n",
       "    <tr>\n",
       "      <th>std</th>\n",
       "      <td>1174.914952</td>\n",
       "      <td>9.044149e+03</td>\n",
       "      <td>672.547472</td>\n",
       "      <td>2.111665</td>\n",
       "      <td>24.517405</td>\n",
       "      <td>0.078847</td>\n",
       "    </tr>\n",
       "    <tr>\n",
       "      <th>min</th>\n",
       "      <td>330.000000</td>\n",
       "      <td>6.172800e+06</td>\n",
       "      <td>22800.000000</td>\n",
       "      <td>1.000000</td>\n",
       "      <td>0.010000</td>\n",
       "      <td>0.000000</td>\n",
       "    </tr>\n",
       "    <tr>\n",
       "      <th>25%</th>\n",
       "      <td>1320.000000</td>\n",
       "      <td>6.179300e+06</td>\n",
       "      <td>22850.000000</td>\n",
       "      <td>1.000000</td>\n",
       "      <td>6.990000</td>\n",
       "      <td>0.000000</td>\n",
       "    </tr>\n",
       "    <tr>\n",
       "      <th>50%</th>\n",
       "      <td>2310.000000</td>\n",
       "      <td>6.188400e+06</td>\n",
       "      <td>22925.000000</td>\n",
       "      <td>1.000000</td>\n",
       "      <td>10.950000</td>\n",
       "      <td>0.000000</td>\n",
       "    </tr>\n",
       "    <tr>\n",
       "      <th>75%</th>\n",
       "      <td>3190.000000</td>\n",
       "      <td>6.195950e+06</td>\n",
       "      <td>24375.000000</td>\n",
       "      <td>1.000000</td>\n",
       "      <td>21.990000</td>\n",
       "      <td>0.000000</td>\n",
       "    </tr>\n",
       "    <tr>\n",
       "      <th>max</th>\n",
       "      <td>4840.000000</td>\n",
       "      <td>6.205900e+06</td>\n",
       "      <td>24425.000000</td>\n",
       "      <td>239.000000</td>\n",
       "      <td>2094.090088</td>\n",
       "      <td>1.000000</td>\n",
       "    </tr>\n",
       "  </tbody>\n",
       "</table>\n",
       "</div>"
      ],
      "text/plain": [
       "        Store_Number     SKU_Coded  Product_Class_Code       Qty_Sold  \\\n",
       "count  697894.000000  6.978940e+05       697894.000000  697894.000000   \n",
       "mean     2322.063537  6.188240e+06        23284.495747       1.484536   \n",
       "std      1174.914952  9.044149e+03          672.547472       2.111665   \n",
       "min       330.000000  6.172800e+06        22800.000000       1.000000   \n",
       "25%      1320.000000  6.179300e+06        22850.000000       1.000000   \n",
       "50%      2310.000000  6.188400e+06        22925.000000       1.000000   \n",
       "75%      3190.000000  6.195950e+06        24375.000000       1.000000   \n",
       "max      4840.000000  6.205900e+06        24425.000000     239.000000   \n",
       "\n",
       "       Total_Sale_Value       On_Promo  \n",
       "count     697894.000000  697894.000000  \n",
       "mean          19.018131       0.006256  \n",
       "std           24.517405       0.078847  \n",
       "min            0.010000       0.000000  \n",
       "25%            6.990000       0.000000  \n",
       "50%           10.950000       0.000000  \n",
       "75%           21.990000       0.000000  \n",
       "max         2094.090088       1.000000  "
      ]
     },
     "execution_count": 8,
     "metadata": {},
     "output_type": "execute_result"
    }
   ],
   "source": [
    "df.describe()"
   ]
  },
  {
   "cell_type": "markdown",
   "metadata": {},
   "source": [
    "TOOL 1"
   ]
  },
  {
   "cell_type": "code",
   "execution_count": 9,
   "metadata": {},
   "outputs": [],
   "source": [
    "import duckdb"
   ]
  },
  {
   "cell_type": "code",
   "execution_count": 10,
   "metadata": {},
   "outputs": [],
   "source": [
    "def generate_sql_query(prompt,table,columns):\n",
    "  SQL_GENERATION_PROMPT = \"\"\"\n",
    "                          Generate an SQL query based on a prompt. Do not reply with anything besides the SQL query.\n",
    "                          The prompt is: {prompt}\n",
    "\n",
    "                          The available columns are: {columns}\n",
    "                          The table name is: {table}\n",
    "                          \"\"\"\n",
    "  formatted_prompt = SQL_GENERATION_PROMPT.format(prompt=prompt, columns=columns, table=table)\n",
    "  sql_query=client.chat.completions.create(\n",
    "    model=model,\n",
    "    messages=[{\"role\":\"user\",\"content\":formatted_prompt}],\n",
    "  )\n",
    "  return sql_query.choices[0].message.content"
   ]
  },
  {
   "cell_type": "code",
   "execution_count": 11,
   "metadata": {},
   "outputs": [],
   "source": [
    "def lookup_sales_data(user_prompt,df):\n",
    "  try:\n",
    "    table=\"Sales\"\n",
    "    df=df\n",
    "    columns=df.columns\n",
    "    duckdb.sql(f\"CREATE TABLE IF NOT EXISTS {table} AS SELECT * FROM df\")\n",
    "    sql_query=generate_sql_query(user_prompt,table,columns)\n",
    "    sql_query = sql_query.strip()\n",
    "    sql_query = sql_query.replace(\"```sql\", \"\").replace(\"```\", \"\")\n",
    "\n",
    "    result = duckdb.sql(sql_query).df()\n",
    "\n",
    "    return result.to_string()\n",
    "  \n",
    "  except Exception as e:\n",
    "        return f\"Error accessing data: {str(e)}\"\n"
   ]
  },
  {
   "cell_type": "code",
   "execution_count": 12,
   "metadata": {},
   "outputs": [],
   "source": [
    "user_prompt=\"Show me all the sales for store 1320 on November 1st, 2021\"\n",
    "result_data=lookup_sales_data(user_prompt,df)"
   ]
  },
  {
   "cell_type": "code",
   "execution_count": 13,
   "metadata": {},
   "outputs": [
    {
     "data": {
      "text/plain": [
       "'    Store_Number  SKU_Coded  Product_Class_Code  Sold_Date  Qty_Sold  Total_Sale_Value  On_Promo\\n0           1320    6173050               22875 2021-11-01         1          4.990000         0\\n1           1320    6174250               22875 2021-11-01         1          0.890000         0\\n2           1320    6176200               22975 2021-11-01         2         99.980003         0\\n3           1320    6176800               22800 2021-11-01         1         14.970000         0\\n4           1320    6177250               22975 2021-11-01         1          6.890000         0\\n5           1320    6177300               22800 2021-11-01         1          9.990000         0\\n6           1320    6177350               22800 2021-11-01         2         16.980000         0\\n7           1320    6177700               22875 2021-11-01         1          3.190000         0\\n8           1320    6178000               22875 2021-11-01         2          6.380000         0\\n9           1320    6178250               22800 2021-11-01         1         16.590000         0\\n10          1320    6179250               24400 2021-11-01         1         14.990000         0\\n11          1320    6179300               22800 2021-11-01         2          9.980000         0\\n12          1320    6179400               24400 2021-11-01         2         29.980000         0\\n13          1320    6179450               24400 2021-11-01         1         14.990000         0\\n14          1320    6179500               24400 2021-11-01         1         14.990000         0\\n15          1320    6179750               22800 2021-11-01         2         39.980000         0\\n16          1320    6180550               22975 2021-11-01         1         15.990000         0\\n17          1320    6182050               22975 2021-11-01         1          7.990000         0\\n18          1320    6183750               22850 2021-11-01         3         38.970001         0\\n19          1320    6184100               22975 2021-11-01         3         59.970001         0\\n20          1320    6188550               22950 2021-11-01         2         15.980000         0\\n21          1320    6190050               24425 2021-11-01         5         19.950001         0\\n22          1320    6190150               24425 2021-11-01         1          8.990000         0\\n23          1320    6190200               24425 2021-11-01         1          8.990000         0\\n24          1320    6190250               24425 2021-11-01         1          7.990000         0\\n25          1320    6190350               22950 2021-11-01         1          6.990000         0\\n26          1320    6190400               22950 2021-11-01         1          6.990000         0\\n27          1320    6193750               22875 2021-11-01         1          6.990000         0\\n28          1320    6195350               24375 2021-11-01         1         16.990000         0\\n29          1320    6195800               22850 2021-11-01         3         25.719999         1'"
      ]
     },
     "execution_count": 13,
     "metadata": {},
     "output_type": "execute_result"
    }
   ],
   "source": [
    "result_data"
   ]
  },
  {
   "cell_type": "markdown",
   "metadata": {},
   "source": [
    "Tool 2"
   ]
  },
  {
   "cell_type": "code",
   "execution_count": 14,
   "metadata": {},
   "outputs": [],
   "source": [
    "def analyse_sales_data(data,prompt):\n",
    "  analysis_prompt=\"\"\"\n",
    "                  Analyze the following data: {data}\n",
    "                  Your job is to answer the following question: {prompt}\n",
    "                  \"\"\"\n",
    "  formatted_prompt = analysis_prompt.format(data=data, prompt=prompt)\n",
    "  response=client.chat.completions.create(\n",
    "    model=model,\n",
    "    messages=[{\"role\":\"user\",\"content\":formatted_prompt}],\n",
    "  )\n",
    "  analysis=response.choices[0].message.content\n",
    "  return analysis"
   ]
  },
  {
   "cell_type": "code",
   "execution_count": 15,
   "metadata": {},
   "outputs": [],
   "source": [
    "user_prompt=\"what trends do you see in this data?\"\n",
    "analysis=analyse_sales_data(result_data,user_prompt)"
   ]
  },
  {
   "cell_type": "code",
   "execution_count": 16,
   "metadata": {},
   "outputs": [
    {
     "name": "stdout",
     "output_type": "stream",
     "text": [
      "Based on the provided dataset, we can identify a few trends:\n",
      "\n",
      "1. **Promotion Impact**: Almost all transactions have the `On_Promo` field set to 0, indicating that the majority of the sales occurred without any promotional activity. Only one entry has `On_Promo` set to 1 (Row 29), suggesting that product promotions were not a significant driver for sales during this date. \n",
      "\n",
      "2. **Product Class Code Trends**: The data presents several transactions across different `Product_Class_Code` values, such as 22875, 22975, 22800, 24400, and 24425. However, there is no clear indication of which product class is more dominant in sales volume or value since the data range for each product class is varied. It may require aggregating by product class to identify dominant ones.\n",
      "\n",
      "3. **Quantity Sold and Total Sale Value Relationship**: There is a pattern where items sold in higher quantities tend to have a lower cost per unit, and items with higher sale values tend to be sold in smaller quantities. For example:\n",
      "   - Row 21 shows 5 units sold for a `Total_Sale_Value` of 19.95, indicating a lower cost per unit.\n",
      "   - Row 18 shows 3 units sold for a `Total_Sale_Value` of 38.97, indicating a higher value per item.\n",
      "\n",
      "4. **Popular SKUs**: Some SKUs are sold more frequently in higher quantities. For example:\n",
      "   - SKU 6183750 has a `Qty_Sold` of 3 with a relatively high `Total_Sale_Value`.\n",
      "   - SKU 6190050 also stands out with a higher `Qty_Sold` of 5, indicating it could be a popular item in that store.\n",
      "\n",
      "5. **Sales Concentrated on a Single Date**: All transactions provided in this dataset occur on the same date, 2021-11-01, which doesn't allow for time-based trend analysis or seasonality insights. This snapshot can only provide insights into patterns within a single day.\n",
      "\n",
      "Overall, the dataset suggests that the store primarily sells products without promotions, and there is a mix of transactions ranging from low-value high-quantity products to high-value low-quantity products. To derive more insightful trends, analyses over a broader time period or additional store data would be necessary.\n"
     ]
    }
   ],
   "source": [
    "print(analysis)"
   ]
  },
  {
   "cell_type": "markdown",
   "metadata": {},
   "source": [
    "Tool 3"
   ]
  },
  {
   "cell_type": "code",
   "execution_count": 29,
   "metadata": {},
   "outputs": [],
   "source": [
    "def visualise_code(data,prompt):\n",
    "  visualisation_prompt=\"\"\"\n",
    "                      Generate a visualisation script based on this data: {data}\n",
    "                      The goal is to show: {visualization_goal}\n",
    "                      give only the code and nothing else as this output will be directly passed to execute the script\n",
    "                      \"\"\"\n",
    "  formatted_prompt=visualisation_prompt.format(data=data,visualization_goal=prompt)\n",
    "  response=client.chat.completions.create(\n",
    "    model=model,\n",
    "    messages=[{\"role\":\"user\",\"content\":formatted_prompt}])\n",
    "  code=response.choices[0].message.content\n",
    "  code = code.replace(\"```python\", \"\").replace(\"```\", \"\")\n",
    "  code = code.strip()\n",
    "  return code\n",
    "                          "
   ]
  },
  {
   "cell_type": "code",
   "execution_count": 33,
   "metadata": {},
   "outputs": [],
   "source": [
    "code=visualise_code(result_data,\"A bar chart of sales by product SKU. Put the product SKU on the x-axis and the sales value on the y-axis.\")"
   ]
  },
  {
   "cell_type": "code",
   "execution_count": 34,
   "metadata": {},
   "outputs": [
    {
     "name": "stdout",
     "output_type": "stream",
     "text": [
      "import pandas as pd\n",
      "import matplotlib.pyplot as plt\n",
      "\n",
      "# Sample data\n",
      "data = {\n",
      "    'SKU_Coded': [\n",
      "        6173050, 6174250, 6176200, 6176800, 6177250, 6177300, 6177350, 6177700, 6178000, 6178250,\n",
      "        6179250, 6179300, 6179400, 6179450, 6179500, 6179750, 6180550, 6182050, 6183750, 6184100,\n",
      "        6188550, 6190050, 6190150, 6190200, 6190250, 6190350, 6190400, 6193750, 6195350, 6195800\n",
      "    ],\n",
      "    'Total_Sale_Value': [\n",
      "        4.99, 0.89, 99.98, 14.97, 6.89, 9.99, 16.98, 3.19, 6.38, 16.59,\n",
      "        14.99, 9.98, 29.98, 14.99, 14.99, 39.98, 15.99, 7.99, 38.97, 59.97,\n",
      "        15.98, 19.95, 8.99, 8.99, 7.99, 6.99, 6.99, 6.99, 16.99, 25.72\n",
      "    ]\n",
      "}\n",
      "\n",
      "df = pd.DataFrame(data)\n",
      "\n",
      "# Create the bar chart\n",
      "plt.figure(figsize=(12, 8))\n",
      "plt.bar(df['SKU_Coded'].astype(str), df['Total_Sale_Value'])\n",
      "plt.xlabel('Product SKU')\n",
      "plt.ylabel('Total Sale Value')\n",
      "plt.title('Sales by Product SKU')\n",
      "plt.xticks(rotation=90)\n",
      "plt.tight_layout()\n",
      "plt.show()\n"
     ]
    }
   ],
   "source": [
    "print(code)"
   ]
  },
  {
   "cell_type": "code",
   "execution_count": 35,
   "metadata": {},
   "outputs": [
    {
     "data": {
      "image/png": "[encoded data removed]",
      "text/plain": [
       "<Figure size 1200x800 with 1 Axes>"
      ]
     },
     "metadata": {},
     "output_type": "display_data"
    }
   ],
   "source": [
    "exec(code)"
   ]
  },
  {
   "cell_type": "code",
   "execution_count": null,
   "metadata": {},
   "outputs": [],
   "source": []
  }
 ],
 "metadata": {
  "kernelspec": {
   "display_name": "pydantic",
   "language": "python",
   "name": "python3"
  },
  "language_info": {
   "codemirror_mode": {
    "name": "ipython",
    "version": 3
   },
   "file_extension": ".py",
   "mimetype": "text/x-python",
   "name": "python",
   "nbconvert_exporter": "python",
   "pygments_lexer": "ipython3",
   "version": "3.11.9"
  }
 },
 "nbformat": 4,
 "nbformat_minor": 2
}
